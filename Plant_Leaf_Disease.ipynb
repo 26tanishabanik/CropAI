{
  "nbformat": 4,
  "nbformat_minor": 0,
  "metadata": {
    "colab": {
      "name": "Plant_Leaf_Disease.ipynb",
      "provenance": [],
      "collapsed_sections": []
    },
    "kernelspec": {
      "name": "python3",
      "display_name": "Python 3"
    },
    "accelerator": "GPU"
  },
  "cells": [
    {
      "cell_type": "code",
      "metadata": {
        "id": "TVaM2Yo1F1Jp",
        "colab": {
          "base_uri": "https://localhost:8080/",
          "height": 124
        },
        "outputId": "30c2e575-f04c-4e1b-9153-0155157c3e0d"
      },
      "source": [
        "import os\n",
        "import cv2\n",
        "import numpy as np\n",
        "import tensorflow as tf\n",
        "from google.colab import drive\n",
        "import matplotlib.pyplot as plt\n",
        "from PIL import Image, ImageOps\n",
        "from tensorflow.keras.models import Model\n",
        "from tensorflow.keras.models import Sequential\n",
        "from tensorflow.keras.losses import categorical_crossentropy, sparse_categorical_crossentropy\n",
        "from tensorflow.keras.applications.inception_v3 import InceptionV3\n",
        "from tensorflow.keras.preprocessing.image import ImageDataGenerator\n",
        "from tensorflow.keras.layers import Dense, Conv2D, Flatten, Dropout, MaxPooling2D\n",
        "\n",
        "drive.mount('/content/gdrive/')"
      ],
      "execution_count": null,
      "outputs": [
        {
          "output_type": "stream",
          "text": [
            "Go to this URL in a browser: https://accounts.google.com/o/oauth2/auth?client_id=947318989803-6bn6qk8qdgf4n4g3pfee6491hc0brc4i.apps.googleusercontent.com&redirect_uri=urn%3aietf%3awg%3aoauth%3a2.0%3aoob&response_type=code&scope=email%20https%3a%2f%2fwww.googleapis.com%2fauth%2fdocs.test%20https%3a%2f%2fwww.googleapis.com%2fauth%2fdrive%20https%3a%2f%2fwww.googleapis.com%2fauth%2fdrive.photos.readonly%20https%3a%2f%2fwww.googleapis.com%2fauth%2fpeopleapi.readonly\n",
            "\n",
            "Enter your authorization code:\n",
            "··········\n",
            "Mounted at /content/gdrive/\n"
          ],
          "name": "stdout"
        }
      ]
    },
    {
      "cell_type": "code",
      "metadata": {
        "id": "zTgTjyF6ytfM",
        "colab": {
          "base_uri": "https://localhost:8080/",
          "height": 35
        },
        "outputId": "7e1d16a0-46c5-46ca-ba76-9aafab8ad0c9"
      },
      "source": [
        "print(\"Num GPUs Available: \", len(tf.config.experimental.list_physical_devices('GPU')))"
      ],
      "execution_count": null,
      "outputs": [
        {
          "output_type": "stream",
          "text": [
            "Num GPUs Available:  1\n"
          ],
          "name": "stdout"
        }
      ]
    },
    {
      "cell_type": "code",
      "metadata": {
        "id": "TtsTkCbCrxQX",
        "colab": {
          "base_uri": "https://localhost:8080/",
          "height": 35
        },
        "outputId": "718e2678-8462-450e-eb58-4f54e8c65b81"
      },
      "source": [
        "%cd '/content/gdrive/My Drive/Datasets/Plant-Disease-Dataset/train_preprocessed/'"
      ],
      "execution_count": null,
      "outputs": [
        {
          "output_type": "stream",
          "text": [
            "/content/gdrive\n"
          ],
          "name": "stdout"
        }
      ]
    },
    {
      "cell_type": "code",
      "metadata": {
        "id": "eQleb5ZEsAHj",
        "colab": {
          "base_uri": "https://localhost:8080/",
          "height": 676
        },
        "outputId": "4f6c84fd-305f-4771-9d22-6b14b77b90cc"
      },
      "source": [
        "%ls"
      ],
      "execution_count": null,
      "outputs": [
        {
          "output_type": "stream",
          "text": [
            " \u001b[0m\u001b[01;34mApple___Apple_scab\u001b[0m/\n",
            " \u001b[01;34mApple___Black_rot\u001b[0m/\n",
            " \u001b[01;34mApple___Cedar_apple_rust\u001b[0m/\n",
            " \u001b[01;34mApple___healthy\u001b[0m/\n",
            " \u001b[01;34mBlueberry___healthy\u001b[0m/\n",
            "\u001b[01;34m'Cherry_(including_sour)___healthy'\u001b[0m/\n",
            "\u001b[01;34m'Cherry_(including_sour)___Powdery_mildew'\u001b[0m/\n",
            "\u001b[01;34m'Corn_(maize)___Cercospora_leaf_spot Gray_leaf_spot'\u001b[0m/\n",
            "\u001b[01;34m'Corn_(maize)___Common_rust_'\u001b[0m/\n",
            "\u001b[01;34m'Corn_(maize)___healthy'\u001b[0m/\n",
            "\u001b[01;34m'Corn_(maize)___Northern_Leaf_Blight'\u001b[0m/\n",
            " \u001b[01;34mGrape___Black_rot\u001b[0m/\n",
            "\u001b[01;34m'Grape___Esca_(Black_Measles)'\u001b[0m/\n",
            " \u001b[01;34mGrape___healthy\u001b[0m/\n",
            "\u001b[01;34m'Grape___Leaf_blight_(Isariopsis_Leaf_Spot)'\u001b[0m/\n",
            "\u001b[01;34m'Orange___Haunglongbing_(Citrus_greening)'\u001b[0m/\n",
            " \u001b[01;34mPeach___Bacterial_spot\u001b[0m/\n",
            " \u001b[01;34mPeach___healthy\u001b[0m/\n",
            " \u001b[01;34mPepper,_bell___Bacterial_spot\u001b[0m/\n",
            " \u001b[01;34mPepper,_bell___healthy\u001b[0m/\n",
            " \u001b[01;34mPotato___Early_blight\u001b[0m/\n",
            " \u001b[01;34mPotato___healthy\u001b[0m/\n",
            " \u001b[01;34mPotato___Late_blight\u001b[0m/\n",
            " \u001b[01;34mRaspberry___healthy\u001b[0m/\n",
            " \u001b[01;34mSoybean___healthy\u001b[0m/\n",
            " \u001b[01;34mSquash___Powdery_mildew\u001b[0m/\n",
            " \u001b[01;34mStrawberry___healthy\u001b[0m/\n",
            " \u001b[01;34mStrawberry___Leaf_scorch\u001b[0m/\n",
            " \u001b[01;34mTomato___Bacterial_spot\u001b[0m/\n",
            " \u001b[01;34mTomato___Early_blight\u001b[0m/\n",
            " \u001b[01;34mTomato___healthy\u001b[0m/\n",
            " \u001b[01;34mTomato___Late_blight\u001b[0m/\n",
            " \u001b[01;34mTomato___Leaf_Mold\u001b[0m/\n",
            " \u001b[01;34mTomato___Septoria_leaf_spot\u001b[0m/\n",
            "\u001b[01;34m'Tomato___Spider_mites Two-spotted_spider_mite'\u001b[0m/\n",
            " \u001b[01;34mTomato___Target_Spot\u001b[0m/\n",
            " \u001b[01;34mTomato___Tomato_mosaic_virus\u001b[0m/\n",
            " \u001b[01;34mTomato___Tomato_Yellow_Leaf_Curl_Virus\u001b[0m/\n"
          ],
          "name": "stdout"
        }
      ]
    },
    {
      "cell_type": "code",
      "metadata": {
        "id": "aPKkHNZK61HO"
      },
      "source": [
        "params = {\n",
        "          \"ytick.color\" : \"w\",\n",
        "          \"xtick.color\" : \"w\",\n",
        "          \"axes.labelcolor\" : \"w\",\n",
        "          \"axes.edgecolor\" : \"w\"\n",
        "          }\n",
        "plt.rcParams.update(params)"
      ],
      "execution_count": null,
      "outputs": []
    },
    {
      "cell_type": "code",
      "metadata": {
        "id": "DrX3mmGtSSjs"
      },
      "source": [
        "PATH = '/content/gdrive/My Drive/Datasets/Plant-Disease-Dataset/'"
      ],
      "execution_count": null,
      "outputs": []
    },
    {
      "cell_type": "code",
      "metadata": {
        "id": "NSHlxRs5eZrJ"
      },
      "source": [
        "train_dir = os.path.join(PATH, 'train')\n",
        "valid_dir = os.path.join(PATH, 'valid')\n",
        "test_dir = os.path.join(PATH, 'test')\n",
        "train_preprocessed_dir = os.path.join(PATH, 'train_preprocessed')\n",
        "valid_preprocessed_dir = os.path.join(PATH, 'valid_preprocessed')\n",
        "test_preprocessed_dir = os.path.join(PATH, 'test_preprocessed')"
      ],
      "execution_count": null,
      "outputs": []
    },
    {
      "cell_type": "code",
      "metadata": {
        "id": "4_mZ2t7Yez_A"
      },
      "source": [
        "tht = os.path.join(valid_dir, 'Tomato___healthy')\n",
        "thtp = os.path.join(valid_preprocessed_dir, 'Tomato___healthy')"
      ],
      "execution_count": null,
      "outputs": []
    },
    {
      "cell_type": "code",
      "metadata": {
        "id": "FApQHBNOfJOi",
        "colab": {
          "base_uri": "https://localhost:8080/",
          "height": 35
        },
        "outputId": "a7c9d1b2-8ca5-4ee3-e731-87e13fca9186"
      },
      "source": [
        "len(os.listdir(thtp))"
      ],
      "execution_count": null,
      "outputs": [
        {
          "output_type": "execute_result",
          "data": {
            "text/plain": [
              "481"
            ]
          },
          "metadata": {
            "tags": []
          },
          "execution_count": 10
        }
      ]
    },
    {
      "cell_type": "code",
      "metadata": {
        "id": "fSUsy6aqIV9u",
        "colab": {
          "base_uri": "https://localhost:8080/",
          "height": 676
        },
        "outputId": "b3a7c095-48b2-438d-8324-fb623f59e162"
      },
      "source": [
        "labels = os.listdir(valid_dir)\n",
        "labels"
      ],
      "execution_count": null,
      "outputs": [
        {
          "output_type": "execute_result",
          "data": {
            "text/plain": [
              "['Apple___Apple_scab',\n",
              " 'Apple___Black_rot',\n",
              " 'Apple___Cedar_apple_rust',\n",
              " 'Apple___healthy',\n",
              " 'Blueberry___healthy',\n",
              " 'Cherry_(including_sour)___Powdery_mildew',\n",
              " 'Cherry_(including_sour)___healthy',\n",
              " 'Corn_(maize)___Cercospora_leaf_spot Gray_leaf_spot',\n",
              " 'Corn_(maize)___Common_rust_',\n",
              " 'Corn_(maize)___Northern_Leaf_Blight',\n",
              " 'Corn_(maize)___healthy',\n",
              " 'Grape___Black_rot',\n",
              " 'Grape___Esca_(Black_Measles)',\n",
              " 'Grape___Leaf_blight_(Isariopsis_Leaf_Spot)',\n",
              " 'Grape___healthy',\n",
              " 'Orange___Haunglongbing_(Citrus_greening)',\n",
              " 'Peach___Bacterial_spot',\n",
              " 'Peach___healthy',\n",
              " 'Pepper,_bell___Bacterial_spot',\n",
              " 'Pepper,_bell___healthy',\n",
              " 'Potato___Early_blight',\n",
              " 'Potato___Late_blight',\n",
              " 'Potato___healthy',\n",
              " 'Raspberry___healthy',\n",
              " 'Soybean___healthy',\n",
              " 'Squash___Powdery_mildew',\n",
              " 'Strawberry___Leaf_scorch',\n",
              " 'Strawberry___healthy',\n",
              " 'Tomato___Bacterial_spot',\n",
              " 'Tomato___Early_blight',\n",
              " 'Tomato___Late_blight',\n",
              " 'Tomato___Leaf_Mold',\n",
              " 'Tomato___Septoria_leaf_spot',\n",
              " 'Tomato___Spider_mites Two-spotted_spider_mite',\n",
              " 'Tomato___Target_Spot',\n",
              " 'Tomato___Tomato_Yellow_Leaf_Curl_Virus',\n",
              " 'Tomato___Tomato_mosaic_virus',\n",
              " 'Tomato___healthy']"
            ]
          },
          "metadata": {
            "tags": []
          },
          "execution_count": 36
        }
      ]
    },
    {
      "cell_type": "code",
      "metadata": {
        "id": "ujIfL290t9uq"
      },
      "source": [
        "for label in labels:\n",
        "  path = os.path.join(valid_preprocessed_dir, label)\n",
        "  os.mkdir(path)"
      ],
      "execution_count": null,
      "outputs": []
    },
    {
      "cell_type": "code",
      "metadata": {
        "id": "e7WX3hn3UnTz"
      },
      "source": [
        "label_dir = os.path.join(train_dir, labels[0])\n",
        "img = cv2.imread(label_dir + '/' + os.listdir(label_dir)[11])\n",
        "\n",
        "hsv = cv2.cvtColor(img, cv2.COLOR_BGR2HSV)\n",
        "\n",
        "# find the green color\n",
        "mask_green = cv2.inRange(hsv, (36,0,0), (86,255,255))\n",
        "# find the brown color\n",
        "mask_brown = cv2.inRange(hsv, (8, 60, 20), (120, 255, 255))\n",
        "# find the yellow color in the leaf\n",
        "mask_yellow = cv2.inRange(hsv, (5, 42, 143), (90, 255, 255))\n",
        "# find the black color in the leaf\n",
        "mask_black = cv2.inRange(hsv, (100, 100, 100), (127, 127, 127))\n",
        "\n",
        "\n",
        "# find any of the three colors(green or brown or yellow) in the image\n",
        "mask = cv2.bitwise_or(mask_green, mask_brown)\n",
        "mask = cv2.bitwise_or(mask, mask_yellow)\n",
        "mask = cv2.bitwise_or(mask, mask_black)\n",
        "mask = cv2.bitwise_or(mask, mask_white)\n",
        "\n",
        "# Bitwise-AND mask and original image\n",
        "res = cv2.bitwise_and(img, img, mask = mask)\n",
        "\n",
        "blur_img = cv2.GaussianBlur(res, (3, 3), 0)\n",
        "\n",
        "res_hsv = cv2.cvtColor(blur_img, cv2.COLOR_BGR2HSV)\n",
        "vectorized_res = res_hsv.reshape((-1,3))\n",
        "vectorized_res = np.float32(vectorized_res)\n",
        "\n",
        "criteria = (cv2.TERM_CRITERIA_EPS + cv2.TERM_CRITERIA_MAX_ITER, 10, 1.0)\n",
        "K = 10\n",
        "attempts = 10\n",
        "\n",
        "ret, label, center = cv2.kmeans(vectorized_res, K, None, \n",
        "                                criteria, attempts, cv2.KMEANS_PP_CENTERS)\n",
        "\n",
        "center = np.uint8(center)\n",
        "result = center[label.flatten()]\n",
        "result_image = result.reshape((res.shape))\n",
        "\n",
        "B, G, R = cv2.split(blur_img)\n",
        "output_R = cv2.equalizeHist(R)\n",
        "output_G = cv2.equalizeHist(G)\n",
        "output_B = cv2.equalizeHist(B)\n",
        "output_merge = cv2.merge((output_R, output_G, output_B))\n",
        "\n",
        "f, axarr = plt.subplots(1, 5)\n",
        "f.set_size_inches(21.5, 20.5)\n",
        "axarr[0].imshow(img)\n",
        "axarr[0].set_title(\"Original\", color = 'w')\n",
        "axarr[1].imshow(res)\n",
        "axarr[1].set_title(\"Masked\", color = 'w')\n",
        "axarr[2].imshow(blur_img)\n",
        "axarr[2].set_title(\"Blurred\", color = 'w')\n",
        "axarr[3].imshow(result_image)\n",
        "axarr[3].set_title(\"Segmented 1\", color = 'w')\n",
        "axarr[4].imshow(output_merge)\n",
        "axarr[4].set_title(\"Segmented 2\", color = 'w')"
      ],
      "execution_count": null,
      "outputs": []
    },
    {
      "cell_type": "code",
      "metadata": {
        "id": "OZcKEOA3iQWo"
      },
      "source": [
        "for classes in os.listdir(valid_dir):\n",
        "  filename = 0\n",
        "  print(\"Working Directory: \" + classes)\n",
        "  for images in os.listdir(valid_dir + '/' + classes):\n",
        "    # Update filename\n",
        "    filename += 1\n",
        "    # Read the image\n",
        "    img = plt.imread(valid_dir + '/' + classes + '/' + images)\n",
        "    # Convert image to HSV\n",
        "    hsv = cv2.cvtColor(img, cv2.COLOR_BGR2HSV)\n",
        "\n",
        "    # find the green color\n",
        "    mask_green = cv2.inRange(hsv, (36,0,0), (86,255,255))\n",
        "    # find the brown color\n",
        "    mask_brown = cv2.inRange(hsv, (8, 60, 20), (145, 255, 255))\n",
        "    # find the yellow color in the leaf\n",
        "    mask_yellow = cv2.inRange(hsv, (5, 42, 143), (145, 255, 255))\n",
        "    # find the black color in the leaf\n",
        "    mask_black = cv2.inRange(hsv, (100, 100, 100), (127, 127, 127))\n",
        "\n",
        "    # find any of the four colors(green or brown or yellow or black) in the image\n",
        "    mask = cv2.bitwise_or(mask_green, mask_brown)\n",
        "    mask = cv2.bitwise_or(mask, mask_yellow)\n",
        "    mask = cv2.bitwise_or(mask, mask_black)\n",
        "\n",
        "    # Bitwise-AND mask and original image\n",
        "    res = cv2.bitwise_and(img, img, mask = mask)\n",
        "\n",
        "    # Gaussian blur with 3x3 kernel\n",
        "    blur_img = cv2.GaussianBlur(res, (3, 3), 0)\n",
        "\n",
        "    # Histogram equalization\n",
        "    B, G, R = cv2.split(blur_img)\n",
        "    output_R = cv2.equalizeHist(R)\n",
        "    output_G = cv2.equalizeHist(G)\n",
        "    output_B = cv2.equalizeHist(B)\n",
        "    output_merge = cv2.merge((output_R, output_G, output_B))\n",
        "\n",
        "    # Save the preprocessed image\n",
        "    if cv2.imwrite(valid_preprocessed_dir + '/' + classes + '/' + str(filename) + '.jpg', output_merge):\n",
        "      print(\"Processed Image: \" + str(filename))"
      ],
      "execution_count": null,
      "outputs": []
    },
    {
      "cell_type": "code",
      "metadata": {
        "id": "XTha6ZyZit_x"
      },
      "source": [
        "print(\"Working Directory: test\")\n",
        "\n",
        "for images in os.listdir(test_dir + '/' + 'test'):\n",
        "    # Read the image\n",
        "  img = plt.imread(test_dir + '/' + 'test' + '/' + images)\n",
        "    # Convert image to HSV\n",
        "  hsv = cv2.cvtColor(img, cv2.COLOR_BGR2HSV)\n",
        "\n",
        "    # find the green color\n",
        "  mask_green = cv2.inRange(hsv, (36,0,0), (86,255,255))\n",
        "    # find the brown color\n",
        "  mask_brown = cv2.inRange(hsv, (8, 60, 20), (145, 255, 255))\n",
        "    # find the yellow color in the leaf\n",
        "  mask_yellow = cv2.inRange(hsv, (5, 42, 143), (145, 255, 255))\n",
        "    # find the black color in the leaf\n",
        "  mask_black = cv2.inRange(hsv, (100, 100, 100), (127, 127, 127))\n",
        "\n",
        "    # find any of the four colors(green or brown or yellow or black) in the image\n",
        "  mask = cv2.bitwise_or(mask_green, mask_brown)\n",
        "  mask = cv2.bitwise_or(mask, mask_yellow)\n",
        "  mask = cv2.bitwise_or(mask, mask_black)\n",
        "\n",
        "    # Bitwise-AND mask and original image\n",
        "  res = cv2.bitwise_and(img, img, mask = mask)\n",
        "\n",
        "    # Gaussian blur with 3x3 kernel\n",
        "  blur_img = cv2.GaussianBlur(res, (3, 3), 0)\n",
        "\n",
        "    # Histogram equalization\n",
        "  B, G, R = cv2.split(blur_img)\n",
        "  output_R = cv2.equalizeHist(R)\n",
        "  output_G = cv2.equalizeHist(G)\n",
        "  output_B = cv2.equalizeHist(B)\n",
        "  output_merge = cv2.merge((output_R, output_G, output_B))\n",
        "\n",
        "    # Save the preprocessed image\n",
        "  if cv2.imwrite(test_preprocessed_dir + '/' + images, output_merge):\n",
        "    print(\"Processed Image: \" + images)"
      ],
      "execution_count": null,
      "outputs": []
    },
    {
      "cell_type": "code",
      "metadata": {
        "id": "HTCAtQyWQ4PO"
      },
      "source": [
        "# gray = cv2.cvtColor(img, cv2.COLOR_BGR2GRAY) \n",
        "\n",
        "# ret, thresh = cv2.threshold(gray, 0, 255, \n",
        "#                             cv2.THRESH_BINARY_INV +\n",
        "#                             cv2.THRESH_OTSU)\n",
        "\n",
        "# kernel = np.ones((3, 3), np.uint8)\n",
        "# closing = cv2.morphologyEx(thresh, cv2.MORPH_CLOSE, kernel, iterations = 2)\n",
        "\n",
        "# # Background area using Dialation \n",
        "# bg = cv2.dilate(closing, kernel, iterations = 1) \n",
        "\n",
        "# # Finding foreground area \n",
        "# dist_transform = cv2.distanceTransform(closing, cv2.DIST_L2, 0)\n",
        "# ret, fg = cv2.threshold(dist_transform, 0.02 * dist_transform.max(), 255, 0)"
      ],
      "execution_count": null,
      "outputs": []
    },
    {
      "cell_type": "code",
      "metadata": {
        "id": "8ZBUCZnsfO-_"
      },
      "source": [
        "batch_size = 128\n",
        "epochs = 20\n",
        "IMG_HEIGHT = 150\n",
        "IMG_WIDTH = 150"
      ],
      "execution_count": null,
      "outputs": []
    },
    {
      "cell_type": "code",
      "metadata": {
        "id": "PywJkJEYi2Ju"
      },
      "source": [
        "train_image_generator = ImageDataGenerator(rescale = 1./255)\n",
        "validation_image_generator = ImageDataGenerator(rescale = 1./255)"
      ],
      "execution_count": null,
      "outputs": []
    },
    {
      "cell_type": "code",
      "metadata": {
        "id": "OJpFv6CkiLgI",
        "colab": {
          "base_uri": "https://localhost:8080/",
          "height": 34
        },
        "outputId": "b969facf-270c-40ec-f5d4-00b281dfbfbc"
      },
      "source": [
        "train_data_gen = train_image_generator.flow_from_directory(batch_size = batch_size,\n",
        "                                                           directory = train_preprocessed_dir,\n",
        "                                                           shuffle = True,\n",
        "                                                           target_size = (IMG_HEIGHT, IMG_WIDTH),\n",
        "                                                           class_mode = 'categorical')"
      ],
      "execution_count": null,
      "outputs": [
        {
          "output_type": "stream",
          "text": [
            "Found 70295 images belonging to 38 classes.\n"
          ],
          "name": "stdout"
        }
      ]
    },
    {
      "cell_type": "code",
      "metadata": {
        "id": "gE7FIOSMmMlB",
        "colab": {
          "base_uri": "https://localhost:8080/",
          "height": 34
        },
        "outputId": "3e6f2d53-4eaf-4671-8828-a4b756002298"
      },
      "source": [
        "valid_data_gen = validation_image_generator.flow_from_directory(batch_size = batch_size,\n",
        "                                                              directory = valid_preprocessed_dir,\n",
        "                                                              target_size = (IMG_HEIGHT, IMG_WIDTH),\n",
        "                                                              class_mode = 'categorical')"
      ],
      "execution_count": null,
      "outputs": [
        {
          "output_type": "stream",
          "text": [
            "Found 17572 images belonging to 38 classes.\n"
          ],
          "name": "stdout"
        }
      ]
    },
    {
      "cell_type": "code",
      "metadata": {
        "id": "czG18w8_g9xV"
      },
      "source": [
        "model = InceptionV3(include_top = False, \n",
        "                    weights = 'imagenet', input_shape = (150, 150, 3))\n",
        "model.trainable = False\n",
        "for layers in model.layers:\n",
        "  layers.trainable = False"
      ],
      "execution_count": null,
      "outputs": []
    },
    {
      "cell_type": "code",
      "metadata": {
        "id": "NgpcUFLdvG77"
      },
      "source": [
        "from tensorflow.keras.optimizers import Adam\n",
        "from tensorflow.keras import layers\n",
        "\n",
        "# Flatten the output layer to 1 dimension\n",
        "x = keras.layers.Flatten()(model.output)\n",
        "\n",
        "# Add a fully connected layer with 1024 hidden units with ReLU activation\n",
        "x = keras.layers.Dense(1024, activation = 'relu')(x)\n",
        "\n",
        "# Add a Dropout Layer with dropout rate of 0.2\n",
        "x = keras.layers.Dropout(0.2)(x)\n",
        "\n",
        "# Add a final dense layer with Softmax activation for classification\n",
        "x = keras.layers.Dense(38, activation = 'softmax')(x)\n",
        "\n",
        "model = Model(model.input, x)\n",
        "\n",
        "model.compile(optimizer = Adam(lr = 0.0001),\n",
        "               loss='categorical_crossentropy', metrics = ['accuracy'])"
      ],
      "execution_count": null,
      "outputs": []
    },
    {
      "cell_type": "code",
      "metadata": {
        "id": "xJgIqezZM7eI"
      },
      "source": [
        "class myCallback(tf.keras.callbacks.Callback):\n",
        "  def on_epoch_end(self, epoch, logs={}):\n",
        "    if logs.get('accuracy') > 0.989:\n",
        "      print(\"98.9% accuracy achieved. Aborting training.\")\n",
        "      self.model.stop_training = True"
      ],
      "execution_count": null,
      "outputs": []
    },
    {
      "cell_type": "code",
      "metadata": {
        "id": "3fmvcHIpCT29",
        "colab": {
          "base_uri": "https://localhost:8080/",
          "height": 50
        },
        "outputId": "561d5a8f-631f-4465-f408-60477d30fbe8"
      },
      "source": [
        "callbacks = myCallback()\n",
        "history = model.fit_generator(generator = train_data_gen,\n",
        "                              steps_per_epoch = train_data_gen.samples // train_data_gen.batch_size,\n",
        "                              epochs = 20,\n",
        "                              verbose = 1,\n",
        "                              callbacks = [callbacks],\n",
        "                              validation_data = valid_data_gen,\n",
        "                              validation_steps = valid_data_gen.samples // valid_data_gen.batch_size)"
      ],
      "execution_count": null,
      "outputs": [
        {
          "output_type": "stream",
          "text": [
            "Epoch 1/20\n",
            "  4/549 [..............................] - ETA: 11:18:49 - loss: 5.1639 - accuracy: 0.0469"
          ],
          "name": "stdout"
        }
      ]
    },
    {
      "cell_type": "code",
      "metadata": {
        "id": "DnlXqN2JOhqB"
      },
      "source": [
        "model.save(\"/content/gdrive/My Drive/Datasets/Plant-Disease-Dataset/model.h5\")"
      ],
      "execution_count": null,
      "outputs": []
    },
    {
      "cell_type": "code",
      "metadata": {
        "id": "UprCtrrYZtk-"
      },
      "source": [
        "model.fit()"
      ],
      "execution_count": null,
      "outputs": []
    },
    {
      "cell_type": "code",
      "metadata": {
        "id": "JYspYmA0Op0G"
      },
      "source": [
        "from tensorflow.keras.models import load_model\n",
        "model = load_model(\"/content/gdrive/My Drive/Datasets/Plant-Disease-Dataset/15.4k_images_model.h5\")"
      ],
      "execution_count": null,
      "outputs": []
    },
    {
      "cell_type": "code",
      "metadata": {
        "id": "yIExfDaCP0yH"
      },
      "source": [
        "from tensorflow import lite"
      ],
      "execution_count": null,
      "outputs": []
    },
    {
      "cell_type": "code",
      "metadata": {
        "id": "otT9ZfiaQa6J"
      },
      "source": [
        "converter = lite.TFLiteConverter.from_keras_model(model)\n",
        "tflite_model = converter.convert()\n",
        "\n",
        "with tf.io.gfile.GFile('/content/gdrive/My Drive/Datasets/Plant-Disease-Dataset/15.4k_lite_model.tflite', 'wb') as f:\n",
        "  f.write(tflite_model)"
      ],
      "execution_count": null,
      "outputs": []
    },
    {
      "cell_type": "code",
      "metadata": {
        "id": "A88XvlryVCit",
        "colab": {
          "base_uri": "https://localhost:8080/",
          "height": 287
        },
        "outputId": "b30361c6-4b66-4331-b28e-618644d9285e"
      },
      "source": [
        "img = cv2.imread(test_dir + '/test/TomatoYellowCurlVirus4.JPG')\n",
        "\n",
        "    # Convert image to HSV\n",
        "hsv = cv2.cvtColor(img, cv2.COLOR_BGR2HSV)\n",
        "\n",
        "    # find the green color\n",
        "mask_green = cv2.inRange(hsv, (36,0,0), (86,255,255))\n",
        "    # find the brown color\n",
        "mask_brown = cv2.inRange(hsv, (8, 60, 20), (145, 255, 255))\n",
        "    # find the yellow color in the leaf\n",
        "mask_yellow = cv2.inRange(hsv, (5, 42, 143), (145, 255, 255))\n",
        "    # find the black color in the leaf\n",
        "mask_black = cv2.inRange(hsv, (100, 100, 100), (127, 127, 127))\n",
        "\n",
        "    # find any of the four colors(green or brown or yellow or black) in the image\n",
        "mask = cv2.bitwise_or(mask_green, mask_brown)\n",
        "mask = cv2.bitwise_or(mask, mask_yellow)\n",
        "mask = cv2.bitwise_or(mask, mask_black)\n",
        "\n",
        "    # Bitwise-AND mask and original image\n",
        "res = cv2.bitwise_and(img, img, mask = mask)\n",
        "\n",
        "    # Gaussian blur with 3x3 kernel\n",
        "blur_img = cv2.GaussianBlur(res, (3, 3), 0)\n",
        "\n",
        "    # Histogram equalization\n",
        "B, G, R = cv2.split(blur_img)\n",
        "output_R = cv2.equalizeHist(R)\n",
        "output_G = cv2.equalizeHist(G)\n",
        "output_B = cv2.equalizeHist(B)\n",
        "output_merge = cv2.merge((output_R, output_G, output_B))\n",
        "\n",
        "plt.imshow(output_merge)\n",
        "print(output_merge.shape)"
      ],
      "execution_count": null,
      "outputs": [
        {
          "output_type": "stream",
          "text": [
            "(256, 256, 3)\n"
          ],
          "name": "stdout"
        },
        {
          "output_type": "display_data",
          "data": {
            "image/png": "[encoded data removed]",
            "text/plain": [
              "<Figure size 432x288 with 1 Axes>"
            ]
          },
          "metadata": {
            "tags": [],
            "needs_background": "light"
          }
        }
      ]
    },
    {
      "cell_type": "code",
      "metadata": {
        "id": "Tfg4Xpv8jzr5"
      },
      "source": [
        ""
      ],
      "execution_count": null,
      "outputs": []
    }
  ]
}